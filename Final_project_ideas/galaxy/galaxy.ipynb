{
 "cells": [
  {
   "cell_type": "markdown",
   "id": "8f272448",
   "metadata": {},
   "source": [
    "# Galaxy life evolution simulation"
   ]
  },
  {
   "cell_type": "code",
   "execution_count": 1,
   "id": "9a59b66b",
   "metadata": {},
   "outputs": [],
   "source": [
    "import numpy as np\n",
    "import matplotlib.pyplot as plt\n",
    "from collections import Counter"
   ]
  },
  {
   "cell_type": "markdown",
   "id": "55e5fef2",
   "metadata": {},
   "source": [
    "Generate a squared lattice which stands for the galaxy: each cell is a planet. The habitable zone can be approximated like a circular crown centered in the galaxy center. Its radius depends on many factors, like metallic abundancy and star formation rate.\n",
    "\n",
    "<img src=\"images/GHZ.png\">\n",
    "\n",
    "###galaxy time (maybe can be implemented)### "
   ]
  },
  {
   "cell_type": "markdown",
   "id": "c45ac24b",
   "metadata": {},
   "source": [
    "0 stands for habitable, -1 for less habitable (maybe disable this feature), -2 for no habitable"
   ]
  },
  {
   "cell_type": "code",
   "execution_count": 25,
   "id": "96944d22",
   "metadata": {},
   "outputs": [
    {
     "data": {
      "image/png": "[encoded data removed]",
      "text/plain": [
       "<Figure size 432x288 with 2 Axes>"
      ]
     },
     "metadata": {
      "needs_background": "light"
     },
     "output_type": "display_data"
    }
   ],
   "source": [
    "L = 100 # Square lattice dimension \n",
    "\n",
    "# Milky Way has an about 15 kpc radius and its habitable zone has radii about 7 and 9 kpc. Convert\n",
    "inner_r_MW = 6.\n",
    "outer_r_MW = 10.\n",
    "\n",
    "inner_r = inner_r_MW * L/float(2 * 15)\n",
    "outer_r = outer_r_MW * L/float(2 *15)\n",
    "large_outer_r= (outer_r_MW + 1) * L/float(30) # Maybe needed, maybe not\n",
    "\n",
    "galaxy = np.ones((L, L)) * (-2)\n",
    "for i in range(L):\n",
    "    for j in range(L):\n",
    "        r2 = (i - 49.5) **2 + (j - 49.5) **2\n",
    "        if r2 >= inner_r**2 and r2 <= outer_r**2:\n",
    "            galaxy[i][j] = 0\n",
    "        elif r2 < large_outer_r**2:\n",
    "            galaxy[i][j] = -1    \n",
    "fig, ax = plt.subplots()\n",
    "fig.tight_layout()\n",
    "im = ax.imshow(X=galaxy)\n",
    "cbar = ax.figure.colorbar(im, ax=ax)"
   ]
  },
  {
   "cell_type": "markdown",
   "id": "e99511f5",
   "metadata": {},
   "source": [
    "We say that life can emerge only from a 0, and can be present in 3 stages\n",
    "- 1 if microscopic;\n",
    "- 2 for intelligent life;\n",
    "- 3 for galaxy-colonization ready.\n",
    "\n",
    "Evolution normally brings a stage to the next one, but two other events can be present:\n",
    "- Catastrophic event, which can bring a stage to a lower one or wipe out civilization;\n",
    "- Colonization: a planet can be colonized by some near neighbour (still tune this).\n",
    "\n",
    "\n",
    "All three of these events can bring a stage in [0,1,2,3] to any other with a certain characteristic time and probability."
   ]
  },
  {
   "cell_type": "code",
   "execution_count": 26,
   "id": "77ac1d78",
   "metadata": {},
   "outputs": [],
   "source": [
    "# Characteristic times - fixed (EVOLUTION)\n",
    "t01 = 600\n",
    "t12 = 120\n",
    "t23 = 20\n",
    "\n",
    "# Characteristic times - to play with (CATASTROPHIC EVENT)\n",
    "t10 = 100\n",
    "\n",
    "t20 = 100\n",
    "t21 = 100\n",
    "\n",
    "t30 = 200\n",
    "t31 = 120\n",
    "t32 = 40\n",
    "\n",
    "# Characteristic times - to play with (COLONIZATION)\n",
    "t03 = 10\n",
    "t13 = 10\n",
    "t23_colonization = 10\n",
    "\n",
    "# Probabilities - fixed (EVOLUTION)\n",
    "A01 = 0.003\n",
    "A12 = 0.003\n",
    "A23 = 0.003\n",
    "\n",
    "# Probabilities - to play with (COLONIZATION)\n",
    "A03 = 0.5\n",
    "A13 = 1\n",
    "A23_colonization = 1\n",
    "\n",
    "# Probabilities - to play with (CATASTROPHIC EVENT)\n",
    "A10 = 0.005\n",
    "\n",
    "A20 = 0.005\n",
    "A21 = 0.05\n",
    "\n",
    "A30 = 0.5\n",
    "A31 = 0.5\n",
    "A32 = 0.5"
   ]
  },
  {
   "cell_type": "markdown",
   "id": "28aa7643",
   "metadata": {},
   "source": [
    "To have a look at the evolution of the galaxy we define two other variables:\n",
    "- clock, which tells us how much \"time\" a certain cell stays in that stage\n",
    "- world_map, which tells us how old a certain civilization is and where is located"
   ]
  },
  {
   "cell_type": "code",
   "execution_count": 27,
   "id": "8d58fc05",
   "metadata": {},
   "outputs": [],
   "source": [
    "# For each cell, we want to measure how long it has been since something changed\n",
    "clock = np.zeros((L,L))\n",
    "world_map = np.copy(galaxy)"
   ]
  },
  {
   "cell_type": "markdown",
   "id": "13e31304",
   "metadata": {},
   "source": [
    "Then we will also need a function to check if a certain 3-stage civilization has neighbour to colonize.\n",
    "\n",
    "\n",
    "###Maybe we can try different options on how the choice is made and how far they can go###"
   ]
  },
  {
   "cell_type": "code",
   "execution_count": 28,
   "id": "06f80498",
   "metadata": {},
   "outputs": [],
   "source": [
    "def check_neighbors(galaxy, i, j):\n",
    "    N = galaxy.shape[0] # Lattice dimension\n",
    "# set accumulators\n",
    "    number_of_planets = 0 \n",
    "    number_of_neighbors = 0\n",
    "    neighbor_planets = []\n",
    "    \n",
    "    # Check NN\n",
    "    for k in [i - 1, i, i + 1]:\n",
    "        for l in [j - 1, j, j + 1]:\n",
    "            if k < 0 or k >= N or l < 0 or l >= N: # OBC + errors check\n",
    "                continue\n",
    "            if galaxy[k][l] == -1 or galaxy[k][l] == -2: # Let both be surely not inhabitable? Try different options\n",
    "                continue\n",
    "            if k == i and l == j:\n",
    "                continue\n",
    "            else:\n",
    "                # Accumulate values\n",
    "                number_of_planets += 1\n",
    "                if galaxy[k][l] == 3:\n",
    "                    number_of_neighbors += 1\n",
    "                    neighbor_planets.append((k, l))\n",
    "    # Choose one NN random if there is one                \n",
    "    if number_of_neighbors >= 1:\n",
    "        index = np.random.randint(number_of_neighbors)\n",
    "        selected_neighbor = neighbor_planets[index]\n",
    "    else:\n",
    "        selected_neighbor = None\n",
    "    return number_of_planets, number_of_neighbors, selected_neighbor"
   ]
  },
  {
   "cell_type": "code",
   "execution_count": 41,
   "id": "5e70ad2c",
   "metadata": {},
   "outputs": [
    {
     "name": "stdout",
     "output_type": "stream",
     "text": [
      "Simulation reached 0 billion(?) years.\n",
      "Simulation reached 1 billion(?) years.\n",
      "Simulation reached 2 billion(?) years.\n",
      "Simulation reached 3 billion(?) years.\n",
      "Simulation reached 4 billion(?) years.\n",
      "Simulation reached 5 billion(?) years.\n",
      "Simulation reached 6 billion(?) years.\n",
      "Simulation reached 7 billion(?) years.\n",
      "Simulation finished at 8 billion years\n"
     ]
    }
   ],
   "source": [
    "# SIMULATION\n",
    "civilization_number = 0\n",
    "Nstep = 1500 # number of time steps, needs to understand how to convert in plausible units\n",
    "\n",
    "for step in range(Nstep):\n",
    "    if step % 200 == 0: # print to check how long It takes\n",
    "        print(\"Simulation reached\", (step // 200), \"billion(?) years.\")\n",
    "    # We make a copy of our galaxy's state so that we don't mess it up\n",
    "    new_galaxy = np.copy(galaxy)\n",
    "    # We go cell by cell to see what happens there - Maybe smarter way to do this\n",
    "    for i in range(49 - int(outer_r), 50 + int(outer_r) + 1):\n",
    "        for j in range(50 - int(outer_r), 50 + int(outer_r) + 1):\n",
    "            # Check if outside the Galactic Habitable Zone\n",
    "            r2 = (i - 49.5) * (i - 49.5) + (j - 49.5) * (j - 49.5)\n",
    "            if r2 < inner_r**2 or r2 > outer_r**2:\n",
    "                # It is outside - we skip this cell\n",
    "                continue\n",
    "            planets, neighbors, chosen_neighbor = check_neighbors(new_galaxy, i, j)\n",
    "\n",
    "            if galaxy[i][j] == 0: # NO LIFE ON THIS PLANET\n",
    "                p1 = A01 * clock[i][j] / t01  # come by evolution\n",
    "                p2 = 0\n",
    "                p3 = (A03 * clock[i][j] / t03) * (neighbors / planets)  # or by colonization\n",
    "\n",
    "                # Normalize\n",
    "                p_sum = p1 + p2 + p3\n",
    "                if p_sum > 1:\n",
    "                    p1 = p1 / p_sum\n",
    "                    p2 = p2 / p_sum\n",
    "                    p3 = p3 / p_sum\n",
    "                p0 = 1.0 - p_sum\n",
    "\n",
    "                # Generate a random number to see which of these events happen\n",
    "                rnd = np.random.random()\n",
    "                if rnd < p0: # Nothing happens\n",
    "                    clock[i][j] += 1\n",
    "                elif rnd < p0 + p1: # Evolution happens\n",
    "                    new_galaxy[i][j] = 1\n",
    "                    clock[i][j] = 0\n",
    "                else: \n",
    "                    new_galaxy[i][j] = 3 # Colonization happens\n",
    "                    clock[i][j] = 0\n",
    "                    k, l = chosen_neighbor\n",
    "                    world_map[i][j] = world_map[k][l]\n",
    "                    \n",
    "                    \n",
    "                    \n",
    "            elif galaxy[i][j] == 1: # SIMPLE LIFE ON THIS PLANET (BACTERIA)\n",
    "                p0 = A10 * clock[i][j] / t10  # catastrophe\n",
    "                p2 = A12 * clock[i][j] / t12  # evolution\n",
    "                p3 = (A13 * clock[i][j] / t13) * (neighbors / planets)  # colonization\n",
    "\n",
    "                # Normalize\n",
    "                p_sum = p0 + p2 + p3\n",
    "                if p_sum > 1:\n",
    "                    p0 = p0 / p_sum\n",
    "                    p2 = p2 / p_sum\n",
    "                    p3 = p3 / p_sum\n",
    "                p1 = 1.0 - p_sum\n",
    "\n",
    "                \n",
    "                # Generate a random number to see which of these events happen\n",
    "                rnd = np.random.random()\n",
    "                if rnd < p0: # Wipe out\n",
    "                    new_galaxy[i][j] = 0\n",
    "                    clock[i][j] = 0\n",
    "                elif rnd < p0 + p1: # Nothing happens\n",
    "                    clock[i][j] += 1\n",
    "                elif rnd < p0 + p1 + p2: # Evolution happens\n",
    "                    new_galaxy[i][j] = 2\n",
    "                    clock[i][j] = 0\n",
    "                else:\n",
    "                    new_galaxy[i][j] = 3 # Colonization happens\n",
    "                    clock[i][j] = 0\n",
    "                    k, l = chosen_neighbor\n",
    "                    world_map[i][j] = world_map[k][l]\n",
    "                    \n",
    "                    \n",
    "                    \n",
    "                    \n",
    "                    \n",
    "            elif galaxy[i][j] == 2: # COMPLEX LIFE ON THIS PLANET (PLANTS, ANIMALS, PRIMITIVES)\n",
    "                p0 = A20 * clock[i][j] / t20  # wipe out\n",
    "                p1 = A21 * clock[i][j] / t21  # minor catastrophe\n",
    "                p3_colonization = (\n",
    "                    A23_colonization * clock[i][j] / t23_colonization\n",
    "                ) * (\n",
    "                    neighbors / planets\n",
    "                )  # colonization\n",
    "                p3_evolution = A23 * clock[i][j] / t23  # evolution\n",
    "\n",
    "                \n",
    "                # Normalization\n",
    "                p_sum = p0 + p1 + p3_colonization + p3_evolution\n",
    "                if p_sum > 1:\n",
    "                    p0 = p0 / p_sum\n",
    "                    p1 = p1 / p_sum\n",
    "                    p3_colonization = p3_colonization / p_sum\n",
    "                    p3_evolution = p3_evolution / p_sum\n",
    "                p2 = 1.0 - p_sum\n",
    "\n",
    "                # Generate a random number to see which of these events happen \n",
    "                rnd = np.random.random()\n",
    "                if rnd < p0: # Wipe out\n",
    "                    new_galaxy[i][j] = 0\n",
    "                    clock[i][j] = 0\n",
    "                elif rnd < p0 + p1: # Minor catastrophe\n",
    "                    new_galaxy[i][j] = 1\n",
    "                    clock[i][j] = 0\n",
    "                elif rnd < p0 + p1 + p2: # Nothing happens\n",
    "                    clock[i][j] += 1\n",
    "                elif rnd < p0 + p1 + p2 + p3_colonization: # Colonization\n",
    "                    new_galaxy[i][j] = 3\n",
    "                    clock[i][j] = 0\n",
    "                    k, l = chosen_neighbor\n",
    "                    world_map[i][j] = world_map[k][l]\n",
    "                else: # Evolution \n",
    "                    new_galaxy[i][j] = 3\n",
    "                    clock[i][j] = 0\n",
    "                    civilization_number += 1\n",
    "                    world_map[i][j] = civilization_number\n",
    "\n",
    "                    \n",
    "            elif new_galaxy[i][j] == 3: # TECHNOLOGICALLY ADVANCED CIVILIZATION\n",
    "                p0 = A30 * clock[i][j] / t30  # wipe out\n",
    "                p1 = A31 * clock[i][j] / t31  # major catastrophe\n",
    "                p2 = A32 * clock[i][j] / t32  # minor catastrophe\n",
    "\n",
    "                # Normalization\n",
    "                p_sum = p0 + p1 + p2\n",
    "                if p_sum > 1:\n",
    "                    p0 = p0 / p_sum\n",
    "                    p1 = p1 / p_sum\n",
    "                    p2 = p2 / p_sum\n",
    "                p3 = 1.0 - p_sum\n",
    "\n",
    "                \n",
    "                # Generate a random number to see which of these events happen\n",
    "                rnd = np.random.random()\n",
    "                if rnd < p0: # Wipe out\n",
    "                    new_galaxy[i][j] = 0\n",
    "                    clock[i][j] = 0\n",
    "                    world_map[i][j] = 0\n",
    "                elif rnd < p0 + p1: # Major catastrophe\n",
    "                    new_galaxy[i][j] = 1\n",
    "                    clock[i][j] = 0\n",
    "                    world_map[i][j] = 0\n",
    "                elif rnd < p0 + p1 + p2: # Minor catastrophe\n",
    "                    new_galaxy[i][j] = 2\n",
    "                    clock[i][j] = 0\n",
    "                    world_map[i][j] = 0\n",
    "                else: # Nothing happens\n",
    "                    clock[i][j] += 1\n",
    "    galaxy = np.copy(new_galaxy) # Only here we change our galaxy\n",
    "print(\"Simulation finished at {} billion years\".format(round(float(Nstep)/200)))"
   ]
  },
  {
   "cell_type": "markdown",
   "id": "c27d6184",
   "metadata": {},
   "source": [
    "Finally, we can see the galaxy life evolution"
   ]
  },
  {
   "cell_type": "code",
   "execution_count": 46,
   "id": "d343338f",
   "metadata": {},
   "outputs": [
    {
     "data": {
      "image/png": "[encoded data removed]",
      "text/plain": [
       "<Figure size 900x540 with 2 Axes>"
      ]
     },
     "metadata": {
      "needs_background": "light"
     },
     "output_type": "display_data"
    }
   ],
   "source": [
    "plt.rcParams[\"figure.figsize\"] = [12.50, 7.50]\n",
    "plt.rcParams[\"figure.autolayout\"] = True\n",
    "fig, ax = plt.subplots()\n",
    "fig.tight_layout()\n",
    "im = ax.imshow(X=galaxy)\n",
    "cbar = ax.figure.colorbar(im, ax=ax)\n",
    "plt.show()"
   ]
  },
  {
   "cell_type": "markdown",
   "id": "7b647f3c",
   "metadata": {},
   "source": [
    "And the \"world map\", which gives us a political view of the civilizations in the galaxy"
   ]
  },
  {
   "cell_type": "code",
   "execution_count": 53,
   "id": "a57fac7f",
   "metadata": {},
   "outputs": [
    {
     "name": "stderr",
     "output_type": "stream",
     "text": [
      "C:\\Users\\39339\\AppData\\Local\\Temp/ipykernel_6464/1603810112.py:18: MatplotlibDeprecationWarning: The 'cmap' parameter to Colorbar has no effect because it is overridden by the mappable; it is deprecated since 3.3 and will be removed two minor releases later.\n",
      "  cbar = ax.figure.colorbar(im, ax=ax, cmap=colormap)\n"
     ]
    },
    {
     "data": {
      "image/png": "[encoded data removed]",
      "text/plain": [
       "<Figure size 900x540 with 2 Axes>"
      ]
     },
     "metadata": {
      "needs_background": "light"
     },
     "output_type": "display_data"
    }
   ],
   "source": [
    "plt.rcParams[\"figure.figsize\"] = [12.50, 7.50]\n",
    "plt.rcParams[\"figure.autolayout\"] = True\n",
    "\n",
    "# All of this to change color?\n",
    "colormap = plt.cm.get_cmap('plasma') # 'plasma' or 'viridis'\n",
    "#colors = colormap(scaled_z)\n",
    "#sc = plt.scatter(x, y, c=colors)\n",
    "#sm = plt.cm.ScalarMappable(cmap=colormap)\n",
    "#sm.set_clim(vmin=0, vmax=100)\n",
    "#plt.colorbar(sm)\n",
    "#plt.xlabel(\"Actual\")\n",
    "#plt.ylabel(\"Predicted\")\n",
    "#plt.show()\n",
    "\n",
    "fig, ax = plt.subplots()\n",
    "fig.tight_layout()\n",
    "im = ax.imshow(X=world_map)\n",
    "cbar = ax.figure.colorbar(im, ax=ax, cmap=colormap)\n",
    "plt.show()"
   ]
  },
  {
   "cell_type": "code",
   "execution_count": null,
   "id": "273b06c2",
   "metadata": {},
   "outputs": [],
   "source": []
  }
 ],
 "metadata": {
  "kernelspec": {
   "display_name": "Python 3 (ipykernel)",
   "language": "python",
   "name": "python3"
  },
  "language_info": {
   "codemirror_mode": {
    "name": "ipython",
    "version": 3
   },
   "file_extension": ".py",
   "mimetype": "text/x-python",
   "name": "python",
   "nbconvert_exporter": "python",
   "pygments_lexer": "ipython3",
   "version": "3.9.7"
  }
 },
 "nbformat": 4,
 "nbformat_minor": 5
}
