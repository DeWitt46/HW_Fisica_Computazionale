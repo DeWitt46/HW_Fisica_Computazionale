{
 "cells": [
  {
   "cell_type": "markdown",
   "id": "90384046",
   "metadata": {},
   "source": [
    "# GA for TSP - crossover operators comparison"
   ]
  },
  {
   "cell_type": "markdown",
   "id": "c995376d",
   "metadata": {},
   "source": [
    "The Travelling salesman problem (TSP) asks this question: \"given a list of cities on a plane, which is the shortest route to visit each city exactly once and then return to the starting one?\"\n",
    "<img src=\"images/Example.png\">"
   ]
  },
  {
   "cell_type": "markdown",
   "id": "a96a1686",
   "metadata": {},
   "source": [
    "One of the solutions proposed is through genetic algorithms (GAs), stochastic approaches based on biological evolutionary processes. A simple structure can be:\n",
    "\n",
    "- Generate an initial population of parents P;\n",
    "- Evaluate a certain fitness function of each one;\n",
    "- Choose P/2 parents via proportional selection;\n",
    "- Randomly select two parents to generate offspring using a crossover operator;\n",
    "- Apply mutation operators with a certain probability for minor changes in the results;\n",
    "- Replace old population with the new one when all the parents are selected;\n",
    "- Iterate this process until a certain condition (on fitness function) is satisfied."
   ]
  },
  {
   "cell_type": "markdown",
   "id": "aceecfe2",
   "metadata": {},
   "source": [
    "The idea was to replicate some of the results of this research: https://doi.org/10.1155/2017/7430125.\n",
    "They compare different crossover operators and propose a new one, CX2, which gives a notable improvement in benchmark instances from the TSP library (TSPLIB).\n",
    "\n",
    "A first stage could be writing the code to implement the TSP for 7 cities with the following transition distances: <img src=\"images/Transition_d.png\"> "
   ]
  },
  {
   "cell_type": "markdown",
   "id": "478b27e8",
   "metadata": {},
   "source": [
    "With the parameters they give in the paper for this simple problem, they have this results: <img src=\"images/Results.png\">"
   ]
  },
  {
   "cell_type": "markdown",
   "id": "ae9e4cb3",
   "metadata": {},
   "source": [
    "Since the problem size is small, maybe It can be solvable by checking all different configurations. Next stage could be implement this and maybe compare the time of this and GA approach. The slow one should go like $\\approx N!$, where $N$ is the number of cities. Maybe something on scaling time can be found online."
   ]
  }
 ],
 "metadata": {
  "kernelspec": {
   "display_name": "Python 3 (ipykernel)",
   "language": "python",
   "name": "python3"
  },
  "language_info": {
   "codemirror_mode": {
    "name": "ipython",
    "version": 3
   },
   "file_extension": ".py",
   "mimetype": "text/x-python",
   "name": "python",
   "nbconvert_exporter": "python",
   "pygments_lexer": "ipython3",
   "version": "3.9.7"
  }
 },
 "nbformat": 4,
 "nbformat_minor": 5
}
